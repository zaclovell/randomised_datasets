{
 "cells": [
  {
   "cell_type": "code",
   "execution_count": 3,
   "id": "6fdc9923",
   "metadata": {},
   "outputs": [],
   "source": [
    "import pandas as pd\n",
    "import numpy as np"
   ]
  },
  {
   "cell_type": "code",
   "execution_count": 38,
   "id": "cb1ef0f4",
   "metadata": {},
   "outputs": [
    {
     "data": {
      "text/plain": [
       "array([0.32611227, 0.24984225, 0.17967428, 0.20059541, 0.68971743,\n",
       "       0.52894662, 0.5265576 , 0.05325222, 0.42049708, 0.25580029,\n",
       "       0.36028574, 0.23250348, 0.83145881, 0.84824733, 0.29440115,\n",
       "       0.69694007, 0.24813925, 0.26419862, 0.85582135, 0.62263915,\n",
       "       0.23399821, 0.68118481, 0.37023308])"
      ]
     },
     "execution_count": 38,
     "metadata": {},
     "output_type": "execute_result"
    }
   ],
   "source": [
    "num = 23\n",
    "rng = np.random.default_rng()\n",
    "rng.random((num,))"
   ]
  },
  {
   "cell_type": "code",
   "execution_count": 48,
   "id": "2060f0e3",
   "metadata": {},
   "outputs": [
    {
     "name": "stdout",
     "output_type": "stream",
     "text": [
      "[array([0.02526537, 0.06045772, 0.00090294, 0.0309497 , 0.00228262,\n",
      "       0.05637432, 0.03669285, 0.03591695, 0.1180687 , 0.0471454 ,\n",
      "       0.03649943, 0.0271496 , 0.078596  , 0.06362601, 0.00365016,\n",
      "       0.01525155, 0.03510428, 0.01888135, 0.03739217, 0.08129576,\n",
      "       0.0141658 , 0.12213245, 0.05219889])]\n"
     ]
    }
   ],
   "source": [
    "test = list(np.random.dirichlet(np.ones(num),size=1))\n",
    "\n",
    "type(test)\n",
    "print(test)"
   ]
  },
  {
   "cell_type": "code",
   "execution_count": 43,
   "id": "9fd02ac8",
   "metadata": {},
   "outputs": [
    {
     "name": "stdout",
     "output_type": "stream",
     "text": [
      "2\n"
     ]
    }
   ],
   "source": [
    "gamelist_purchase = ['game 1', 'game 2']\n",
    "\n",
    "\n",
    "\n",
    "gamelist_length = len(gamelist_purchase)\n",
    "\n",
    "print(gamelist_length)"
   ]
  }
 ],
 "metadata": {
  "kernelspec": {
   "display_name": "Python 3 (ipykernel)",
   "language": "python",
   "name": "python3"
  },
  "language_info": {
   "codemirror_mode": {
    "name": "ipython",
    "version": 3
   },
   "file_extension": ".py",
   "mimetype": "text/x-python",
   "name": "python",
   "nbconvert_exporter": "python",
   "pygments_lexer": "ipython3",
   "version": "3.10.0"
  }
 },
 "nbformat": 4,
 "nbformat_minor": 5
}
