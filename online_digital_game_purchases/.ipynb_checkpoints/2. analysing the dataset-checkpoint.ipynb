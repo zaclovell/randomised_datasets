{
 "cells": [
  {
   "cell_type": "code",
   "execution_count": 1,
   "id": "6bc9956d",
   "metadata": {},
   "outputs": [],
   "source": [
    "import pandas as pd"
   ]
  },
  {
   "cell_type": "code",
   "execution_count": 14,
   "id": "19c3f78c",
   "metadata": {},
   "outputs": [
    {
     "data": {
      "text/html": [
       "<div>\n",
       "<style scoped>\n",
       "    .dataframe tbody tr th:only-of-type {\n",
       "        vertical-align: middle;\n",
       "    }\n",
       "\n",
       "    .dataframe tbody tr th {\n",
       "        vertical-align: top;\n",
       "    }\n",
       "\n",
       "    .dataframe thead th {\n",
       "        text-align: right;\n",
       "    }\n",
       "</style>\n",
       "<table border=\"1\" class=\"dataframe\">\n",
       "  <thead>\n",
       "    <tr style=\"text-align: right;\">\n",
       "      <th></th>\n",
       "      <th>date</th>\n",
       "      <th>time</th>\n",
       "      <th>account_id</th>\n",
       "      <th>purchase</th>\n",
       "      <th>price</th>\n",
       "      <th>version</th>\n",
       "      <th>reg_postcode</th>\n",
       "      <th>longitude</th>\n",
       "      <th>latitude</th>\n",
       "      <th>bank_no</th>\n",
       "      <th>bank_name</th>\n",
       "      <th>played_in_24_hours</th>\n",
       "      <th>played_in_48_hours</th>\n",
       "    </tr>\n",
       "  </thead>\n",
       "  <tbody>\n",
       "    <tr>\n",
       "      <th>0</th>\n",
       "      <td>2022-02-26</td>\n",
       "      <td>17:36:57</td>\n",
       "      <td>98127</td>\n",
       "      <td>Ghostrunner PS5</td>\n",
       "      <td>24.99</td>\n",
       "      <td>digital</td>\n",
       "      <td>SE20 9EF</td>\n",
       "      <td>51.415205</td>\n",
       "      <td>-0.053708</td>\n",
       "      <td>90025</td>\n",
       "      <td>ABBEY NATIONAL TREASURY SERVICES PL</td>\n",
       "      <td>0</td>\n",
       "      <td>1</td>\n",
       "    </tr>\n",
       "    <tr>\n",
       "      <th>1</th>\n",
       "      <td>2022-02-07</td>\n",
       "      <td>08:02:14</td>\n",
       "      <td>36462</td>\n",
       "      <td>Ghostrunner PS5</td>\n",
       "      <td>24.99</td>\n",
       "      <td>digital</td>\n",
       "      <td>MK8 0AE</td>\n",
       "      <td>52.031738</td>\n",
       "      <td>-0.799915</td>\n",
       "      <td>90025</td>\n",
       "      <td>ABBEY NATIONAL TREASURY SERVICES PL</td>\n",
       "      <td>1</td>\n",
       "      <td>1</td>\n",
       "    </tr>\n",
       "    <tr>\n",
       "      <th>2</th>\n",
       "      <td>2022-02-18</td>\n",
       "      <td>06:44:23</td>\n",
       "      <td>14705</td>\n",
       "      <td>Ghostrunner PS5</td>\n",
       "      <td>24.99</td>\n",
       "      <td>digital</td>\n",
       "      <td>IP33 1HW</td>\n",
       "      <td>52.247824</td>\n",
       "      <td>0.718071</td>\n",
       "      <td>90025</td>\n",
       "      <td>ABBEY NATIONAL TREASURY SERVICES PL</td>\n",
       "      <td>1</td>\n",
       "      <td>1</td>\n",
       "    </tr>\n",
       "    <tr>\n",
       "      <th>3</th>\n",
       "      <td>2022-02-11</td>\n",
       "      <td>14:45:50</td>\n",
       "      <td>56304</td>\n",
       "      <td>Ghostrunner PS5</td>\n",
       "      <td>24.99</td>\n",
       "      <td>digital</td>\n",
       "      <td>ST5 8RP</td>\n",
       "      <td>53.038671</td>\n",
       "      <td>-2.221383</td>\n",
       "      <td>90025</td>\n",
       "      <td>ABBEY NATIONAL TREASURY SERVICES PL</td>\n",
       "      <td>1</td>\n",
       "      <td>1</td>\n",
       "    </tr>\n",
       "    <tr>\n",
       "      <th>4</th>\n",
       "      <td>2022-02-06</td>\n",
       "      <td>04:02:33</td>\n",
       "      <td>19193</td>\n",
       "      <td>Ghostrunner PS5</td>\n",
       "      <td>24.99</td>\n",
       "      <td>digital</td>\n",
       "      <td>WF5 0QW</td>\n",
       "      <td>53.678445</td>\n",
       "      <td>-1.569627</td>\n",
       "      <td>90025</td>\n",
       "      <td>ABBEY NATIONAL TREASURY SERVICES PL</td>\n",
       "      <td>0</td>\n",
       "      <td>1</td>\n",
       "    </tr>\n",
       "  </tbody>\n",
       "</table>\n",
       "</div>"
      ],
      "text/plain": [
       "         date      time  account_id         purchase  price  version  \\\n",
       "0  2022-02-26  17:36:57       98127  Ghostrunner PS5  24.99  digital   \n",
       "1  2022-02-07  08:02:14       36462  Ghostrunner PS5  24.99  digital   \n",
       "2  2022-02-18  06:44:23       14705  Ghostrunner PS5  24.99  digital   \n",
       "3  2022-02-11  14:45:50       56304  Ghostrunner PS5  24.99  digital   \n",
       "4  2022-02-06  04:02:33       19193  Ghostrunner PS5  24.99  digital   \n",
       "\n",
       "  reg_postcode  longitude  latitude  bank_no  \\\n",
       "0     SE20 9EF  51.415205 -0.053708    90025   \n",
       "1      MK8 0AE  52.031738 -0.799915    90025   \n",
       "2     IP33 1HW  52.247824  0.718071    90025   \n",
       "3      ST5 8RP  53.038671 -2.221383    90025   \n",
       "4      WF5 0QW  53.678445 -1.569627    90025   \n",
       "\n",
       "                             bank_name  played_in_24_hours  played_in_48_hours  \n",
       "0  ABBEY NATIONAL TREASURY SERVICES PL                   0                   1  \n",
       "1  ABBEY NATIONAL TREASURY SERVICES PL                   1                   1  \n",
       "2  ABBEY NATIONAL TREASURY SERVICES PL                   1                   1  \n",
       "3  ABBEY NATIONAL TREASURY SERVICES PL                   1                   1  \n",
       "4  ABBEY NATIONAL TREASURY SERVICES PL                   0                   1  "
      ]
     },
     "execution_count": 14,
     "metadata": {},
     "output_type": "execute_result"
    }
   ],
   "source": [
    "df_dataFeb22 = pd.read_csv(\"0.example dataset random online digital game purchases.csv\")\n",
    "df_dataFeb22.head()"
   ]
  },
  {
   "cell_type": "code",
   "execution_count": 15,
   "id": "34591420",
   "metadata": {},
   "outputs": [
    {
     "data": {
      "text/plain": [
       "purchase\n",
       "Back 4 Blood: Standard Edition PS4 & PS5        2615\n",
       "Battlefield 2042 PS4 & PS5                     10018\n",
       "Borderlands 3 PS4 & PS5                          334\n",
       "Crash Bandicoot: It's About Time                1722\n",
       "Cyberpunk 2077                                  1200\n",
       "DEATHLOOP                                         42\n",
       "Dying Light 2 Stay Human PS4&PS5                 255\n",
       "ELDEN RING PS4 & PS5                            2032\n",
       "Fifa Standard Edition PS4 & PS5                  773\n",
       "Forspoken                                        321\n",
       "Ghostrunner PS5                                  850\n",
       "Ghostwire: Toyko                                 986\n",
       "Gran Turismo 7                                  3514\n",
       "Horizon Forbidden West                           662\n",
       "Life is Strange: True Colors PS4 & PS5           409\n",
       "Madden NFL 2K21 PS4 & PS5                       4310\n",
       "Marvel's Spider-Man: Mile Morales PS4 & PS5     2112\n",
       "NBA 2K21 Next Generation                         180\n",
       "Rachet & Clank: Rift Apart                       113\n",
       "Resident Evil Village PS4 & PS5                  774\n",
       "Saints Row PS4&PS5                               168\n",
       "Sifu                                             884\n",
       "WWE 2K22 for PS5                                4459\n",
       "Watch Dogs: Legion PS4 & PS5                    4160\n",
       "Name: purchase, dtype: int64"
      ]
     },
     "execution_count": 15,
     "metadata": {},
     "output_type": "execute_result"
    }
   ],
   "source": [
    "df_dataFeb22.groupby(\"purchase\").purchase.count()"
   ]
  },
  {
   "cell_type": "code",
   "execution_count": 16,
   "id": "3212f2b0",
   "metadata": {},
   "outputs": [
    {
     "data": {
      "text/plain": [
       "purchase\n",
       "Back 4 Blood: Standard Edition PS4 & PS5        2615\n",
       "Battlefield 2042 PS4 & PS5                     10018\n",
       "Borderlands 3 PS4 & PS5                          334\n",
       "Crash Bandicoot: It's About Time                1722\n",
       "Cyberpunk 2077                                  1200\n",
       "DEATHLOOP                                         42\n",
       "Dying Light 2 Stay Human PS4&PS5                 255\n",
       "ELDEN RING PS4 & PS5                            2032\n",
       "Fifa Standard Edition PS4 & PS5                  773\n",
       "Forspoken                                        321\n",
       "Ghostrunner PS5                                  850\n",
       "Ghostwire: Toyko                                 986\n",
       "Gran Turismo 7                                  3514\n",
       "Horizon Forbidden West                           662\n",
       "Life is Strange: True Colors PS4 & PS5           409\n",
       "Madden NFL 2K21 PS4 & PS5                       4310\n",
       "Marvel's Spider-Man: Mile Morales PS4 & PS5     2112\n",
       "NBA 2K21 Next Generation                         180\n",
       "Rachet & Clank: Rift Apart                       113\n",
       "Resident Evil Village PS4 & PS5                  774\n",
       "Saints Row PS4&PS5                               168\n",
       "Sifu                                             884\n",
       "WWE 2K22 for PS5                                4459\n",
       "Watch Dogs: Legion PS4 & PS5                    4160\n",
       "Name: purchase, dtype: int64"
      ]
     },
     "execution_count": 16,
     "metadata": {},
     "output_type": "execute_result"
    }
   ],
   "source": [
    "df_purchasecountFeb22 = df_dataFeb22.groupby(\"purchase\").purchase.count()\n",
    "df_purchasecountFeb22"
   ]
  },
  {
   "cell_type": "code",
   "execution_count": 17,
   "id": "80c51606",
   "metadata": {},
   "outputs": [
    {
     "data": {
      "image/png": "[encoded data removed]",
      "text/plain": [
       "<Figure size 432x288 with 1 Axes>"
      ]
     },
     "metadata": {
      "needs_background": "light"
     },
     "output_type": "display_data"
    }
   ],
   "source": [
    "ax = df_purchasecountFeb22.plot.barh(x='lab', y='val')"
   ]
  },
  {
   "cell_type": "code",
   "execution_count": null,
   "id": "e72638b5",
   "metadata": {},
   "outputs": [],
   "source": []
  }
 ],
 "metadata": {
  "kernelspec": {
   "display_name": "Python 3 (ipykernel)",
   "language": "python",
   "name": "python3"
  },
  "language_info": {
   "codemirror_mode": {
    "name": "ipython",
    "version": 3
   },
   "file_extension": ".py",
   "mimetype": "text/x-python",
   "name": "python",
   "nbconvert_exporter": "python",
   "pygments_lexer": "ipython3",
   "version": "3.10.0"
  }
 },
 "nbformat": 4,
 "nbformat_minor": 5
}
