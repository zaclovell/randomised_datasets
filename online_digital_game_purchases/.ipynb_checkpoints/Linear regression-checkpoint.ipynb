{
 "cells": [
  {
   "cell_type": "code",
   "execution_count": 17,
   "id": "6144cd4e",
   "metadata": {},
   "outputs": [],
   "source": [
    "import pandas as pd\n",
    "import matplotlib.pyplot as plt"
   ]
  },
  {
   "cell_type": "code",
   "execution_count": 2,
   "id": "846af9b8",
   "metadata": {},
   "outputs": [
    {
     "data": {
      "text/html": [
       "<div>\n",
       "<style scoped>\n",
       "    .dataframe tbody tr th:only-of-type {\n",
       "        vertical-align: middle;\n",
       "    }\n",
       "\n",
       "    .dataframe tbody tr th {\n",
       "        vertical-align: top;\n",
       "    }\n",
       "\n",
       "    .dataframe thead th {\n",
       "        text-align: right;\n",
       "    }\n",
       "</style>\n",
       "<table border=\"1\" class=\"dataframe\">\n",
       "  <thead>\n",
       "    <tr style=\"text-align: right;\">\n",
       "      <th></th>\n",
       "      <th>date</th>\n",
       "      <th>time</th>\n",
       "      <th>account_id</th>\n",
       "      <th>purchase</th>\n",
       "      <th>price</th>\n",
       "      <th>version</th>\n",
       "      <th>reg_postcode</th>\n",
       "      <th>longitude</th>\n",
       "      <th>latitude</th>\n",
       "      <th>bank_no</th>\n",
       "      <th>bank_name</th>\n",
       "      <th>played_in_24_hours</th>\n",
       "      <th>played_in_48_hours</th>\n",
       "    </tr>\n",
       "  </thead>\n",
       "  <tbody>\n",
       "    <tr>\n",
       "      <th>0</th>\n",
       "      <td>2022-02-25</td>\n",
       "      <td>10:03:33</td>\n",
       "      <td>57202</td>\n",
       "      <td>Cyberpunk 2077</td>\n",
       "      <td>39.99</td>\n",
       "      <td>digital</td>\n",
       "      <td>HR9 7DY</td>\n",
       "      <td>51.915109</td>\n",
       "      <td>-2.582634</td>\n",
       "      <td>80050</td>\n",
       "      <td>THE CO-OPERATIVE BANK PLC</td>\n",
       "      <td>0</td>\n",
       "      <td>1</td>\n",
       "    </tr>\n",
       "    <tr>\n",
       "      <th>1</th>\n",
       "      <td>2022-02-07</td>\n",
       "      <td>21:39:25</td>\n",
       "      <td>77914</td>\n",
       "      <td>Cyberpunk 2077</td>\n",
       "      <td>39.99</td>\n",
       "      <td>digital</td>\n",
       "      <td>WA14 1FR</td>\n",
       "      <td>53.385814</td>\n",
       "      <td>-2.338498</td>\n",
       "      <td>80050</td>\n",
       "      <td>THE CO-OPERATIVE BANK PLC</td>\n",
       "      <td>1</td>\n",
       "      <td>1</td>\n",
       "    </tr>\n",
       "    <tr>\n",
       "      <th>2</th>\n",
       "      <td>2022-02-02</td>\n",
       "      <td>19:48:41</td>\n",
       "      <td>79814</td>\n",
       "      <td>Cyberpunk 2077</td>\n",
       "      <td>39.99</td>\n",
       "      <td>digital</td>\n",
       "      <td>BA2 8HU</td>\n",
       "      <td>51.311550</td>\n",
       "      <td>-2.424395</td>\n",
       "      <td>80050</td>\n",
       "      <td>THE CO-OPERATIVE BANK PLC</td>\n",
       "      <td>1</td>\n",
       "      <td>1</td>\n",
       "    </tr>\n",
       "    <tr>\n",
       "      <th>3</th>\n",
       "      <td>2022-02-20</td>\n",
       "      <td>11:08:47</td>\n",
       "      <td>82035</td>\n",
       "      <td>Cyberpunk 2077</td>\n",
       "      <td>39.99</td>\n",
       "      <td>digital</td>\n",
       "      <td>CM4 9DB</td>\n",
       "      <td>51.663959</td>\n",
       "      <td>0.437142</td>\n",
       "      <td>80050</td>\n",
       "      <td>THE CO-OPERATIVE BANK PLC</td>\n",
       "      <td>0</td>\n",
       "      <td>1</td>\n",
       "    </tr>\n",
       "    <tr>\n",
       "      <th>4</th>\n",
       "      <td>2022-02-04</td>\n",
       "      <td>08:07:32</td>\n",
       "      <td>24315</td>\n",
       "      <td>Cyberpunk 2077</td>\n",
       "      <td>39.99</td>\n",
       "      <td>digital</td>\n",
       "      <td>B70 6EA</td>\n",
       "      <td>52.508082</td>\n",
       "      <td>-1.989554</td>\n",
       "      <td>80050</td>\n",
       "      <td>THE CO-OPERATIVE BANK PLC</td>\n",
       "      <td>0</td>\n",
       "      <td>1</td>\n",
       "    </tr>\n",
       "  </tbody>\n",
       "</table>\n",
       "</div>"
      ],
      "text/plain": [
       "         date      time  account_id        purchase  price  version  \\\n",
       "0  2022-02-25  10:03:33       57202  Cyberpunk 2077  39.99  digital   \n",
       "1  2022-02-07  21:39:25       77914  Cyberpunk 2077  39.99  digital   \n",
       "2  2022-02-02  19:48:41       79814  Cyberpunk 2077  39.99  digital   \n",
       "3  2022-02-20  11:08:47       82035  Cyberpunk 2077  39.99  digital   \n",
       "4  2022-02-04  08:07:32       24315  Cyberpunk 2077  39.99  digital   \n",
       "\n",
       "  reg_postcode  longitude  latitude  bank_no  \\\n",
       "0      HR9 7DY  51.915109 -2.582634    80050   \n",
       "1     WA14 1FR  53.385814 -2.338498    80050   \n",
       "2      BA2 8HU  51.311550 -2.424395    80050   \n",
       "3      CM4 9DB  51.663959  0.437142    80050   \n",
       "4      B70 6EA  52.508082 -1.989554    80050   \n",
       "\n",
       "                             bank_name  played_in_24_hours  played_in_48_hours  \n",
       "0  THE CO-OPERATIVE BANK PLC                             0                   1  \n",
       "1  THE CO-OPERATIVE BANK PLC                             1                   1  \n",
       "2  THE CO-OPERATIVE BANK PLC                             1                   1  \n",
       "3  THE CO-OPERATIVE BANK PLC                             0                   1  \n",
       "4  THE CO-OPERATIVE BANK PLC                             0                   1  "
      ]
     },
     "execution_count": 2,
     "metadata": {},
     "output_type": "execute_result"
    }
   ],
   "source": [
    "purchasesFeb22_data = pd.read_csv(\"example_feb_2022_random_online_digital_game_purchases.csv\")\n",
    "purchasesFeb22_data.head()"
   ]
  },
  {
   "cell_type": "code",
   "execution_count": 8,
   "id": "3ee9ff47",
   "metadata": {},
   "outputs": [
    {
     "data": {
      "text/plain": [
       "date                   object\n",
       "time                   object\n",
       "account_id              int64\n",
       "purchase               object\n",
       "price                 float64\n",
       "version                object\n",
       "reg_postcode           object\n",
       "longitude             float64\n",
       "latitude              float64\n",
       "bank_no                 int64\n",
       "bank_name              object\n",
       "played_in_24_hours      int64\n",
       "played_in_48_hours      int64\n",
       "dtype: object"
      ]
     },
     "execution_count": 8,
     "metadata": {},
     "output_type": "execute_result"
    }
   ],
   "source": [
    "purchasesFeb22_data.dtypes"
   ]
  },
  {
   "cell_type": "code",
   "execution_count": 13,
   "id": "4bff7fd4",
   "metadata": {},
   "outputs": [
    {
     "data": {
      "text/plain": [
       "0         Cyberpunk 2077\n",
       "1         Cyberpunk 2077\n",
       "2         Cyberpunk 2077\n",
       "3         Cyberpunk 2077\n",
       "4         Cyberpunk 2077\n",
       "              ...       \n",
       "42888    Ghostrunner PS5\n",
       "42889    Ghostrunner PS5\n",
       "42890    Ghostrunner PS5\n",
       "42891    Ghostrunner PS5\n",
       "42892    Ghostrunner PS5\n",
       "Name: purchase, Length: 42893, dtype: object"
      ]
     },
     "execution_count": 13,
     "metadata": {},
     "output_type": "execute_result"
    }
   ],
   "source": [
    "purchasesFeb22_data['date']\n",
    "purchasesFeb22_data['price']\n"
   ]
  }
 ],
 "metadata": {
  "kernelspec": {
   "display_name": "Python 3 (ipykernel)",
   "language": "python",
   "name": "python3"
  },
  "language_info": {
   "codemirror_mode": {
    "name": "ipython",
    "version": 3
   },
   "file_extension": ".py",
   "mimetype": "text/x-python",
   "name": "python",
   "nbconvert_exporter": "python",
   "pygments_lexer": "ipython3",
   "version": "3.10.0"
  }
 },
 "nbformat": 4,
 "nbformat_minor": 5
}
